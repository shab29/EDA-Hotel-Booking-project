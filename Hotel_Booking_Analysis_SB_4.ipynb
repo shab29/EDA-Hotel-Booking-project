{
  "nbformat": 4,
  "nbformat_minor": 0,
  "metadata": {
    "kernelspec": {
      "display_name": "Python 3",
      "language": "python",
      "name": "python3"
    },
    "language_info": {
      "codemirror_mode": {
        "name": "ipython",
        "version": 3
      },
      "file_extension": ".py",
      "mimetype": "text/x-python",
      "name": "python",
      "nbconvert_exporter": "python",
      "pygments_lexer": "ipython3",
      "version": "3.6.6"
    },
    "colab": {
      "name": "Hotel Booking Analysis_SB - Capstone Project.ipynb",
      "provenance": []
    }
  },
  "cells": [
    {
      "cell_type": "markdown",
      "metadata": {
        "id": "Y06xIdG26kRF"
      },
      "source": [
        "## <b> Have you ever wondered when the best time of year to book a hotel room is? Or the optimal length of stay in order to get the best daily rate? What if you wanted to predict whether or not a hotel was likely to receive a disproportionately high number of special requests? This hotel booking dataset can help you explore those questions!\n",
        "\n",
        "## <b>This data set contains booking information for a city hotel and a resort hotel, and includes information such as when the booking was made, length of stay, the number of adults, children, and/or babies, and the number of available parking spaces, among other things. All personally identifying information has been removed from the data. </b>\n",
        "\n",
        "## <b> Explore and analyze the data to discover important factors that govern the bookings. </b>"
      ]
    },
    {
      "cell_type": "code",
      "source": [
        "# mounting the drive with collab\n",
        "from google.colab import drive\n",
        "drive.mount('/content/drive')"
      ],
      "metadata": {
        "colab": {
          "base_uri": "https://localhost:8080/"
        },
        "id": "9ngaAkkp2ABz",
        "outputId": "9dc7d3ba-dea5-48dc-819e-6c4d17375d07"
      },
      "execution_count": 2,
      "outputs": [
        {
          "output_type": "stream",
          "name": "stdout",
          "text": [
            "Mounted at /content/drive\n"
          ]
        }
      ]
    },
    {
      "cell_type": "code",
      "metadata": {
        "id": "dByMsuzT8Tnw"
      },
      "source": [
        "#import liberaries \n",
        "import pandas as pd\n",
        "import numpy as np\n",
        "import matplotlib.pyplot as plt\n",
        "%matplotlib inline\n",
        "\n",
        "import seaborn as sns\n",
        "\n",
        "from datetime import datetime\n",
        "from datetime import date\n",
        "\n",
        "import warnings\n",
        "warnings.filterwarnings('ignore') #Used when finding the outliers"
      ],
      "execution_count": 3,
      "outputs": []
    },
    {
      "cell_type": "code",
      "source": [
        "#adding path of data file\n",
        "path=\"/content/drive/MyDrive/Colab Notebooks/AlmaBetter/Capstone_project/Hotel_booking/Copy of Hotel Bookings.csv\"\n",
        "df=pd.read_csv(path) # reading csv file and named as df"
      ],
      "metadata": {
        "id": "nlIm39644OM9"
      },
      "execution_count": 4,
      "outputs": []
    },
    {
      "cell_type": "code",
      "source": [
        "# Looking at information of the data\n",
        "df.info() "
      ],
      "metadata": {
        "colab": {
          "base_uri": "https://localhost:8080/"
        },
        "id": "1dI24EW95t52",
        "outputId": "1b8e45a0-21cc-4054-a914-93cb2794951c"
      },
      "execution_count": 5,
      "outputs": [
        {
          "output_type": "stream",
          "name": "stdout",
          "text": [
            "<class 'pandas.core.frame.DataFrame'>\n",
            "RangeIndex: 119390 entries, 0 to 119389\n",
            "Data columns (total 32 columns):\n",
            " #   Column                          Non-Null Count   Dtype  \n",
            "---  ------                          --------------   -----  \n",
            " 0   hotel                           119390 non-null  object \n",
            " 1   is_canceled                     119390 non-null  int64  \n",
            " 2   lead_time                       119390 non-null  int64  \n",
            " 3   arrival_date_year               119390 non-null  int64  \n",
            " 4   arrival_date_month              119390 non-null  object \n",
            " 5   arrival_date_week_number        119390 non-null  int64  \n",
            " 6   arrival_date_day_of_month       119390 non-null  int64  \n",
            " 7   stays_in_weekend_nights         119390 non-null  int64  \n",
            " 8   stays_in_week_nights            119390 non-null  int64  \n",
            " 9   adults                          119390 non-null  int64  \n",
            " 10  children                        119386 non-null  float64\n",
            " 11  babies                          119390 non-null  int64  \n",
            " 12  meal                            119390 non-null  object \n",
            " 13  country                         118902 non-null  object \n",
            " 14  market_segment                  119390 non-null  object \n",
            " 15  distribution_channel            119390 non-null  object \n",
            " 16  is_repeated_guest               119390 non-null  int64  \n",
            " 17  previous_cancellations          119390 non-null  int64  \n",
            " 18  previous_bookings_not_canceled  119390 non-null  int64  \n",
            " 19  reserved_room_type              119390 non-null  object \n",
            " 20  assigned_room_type              119390 non-null  object \n",
            " 21  booking_changes                 119390 non-null  int64  \n",
            " 22  deposit_type                    119390 non-null  object \n",
            " 23  agent                           103050 non-null  float64\n",
            " 24  company                         6797 non-null    float64\n",
            " 25  days_in_waiting_list            119390 non-null  int64  \n",
            " 26  customer_type                   119390 non-null  object \n",
            " 27  adr                             119390 non-null  float64\n",
            " 28  required_car_parking_spaces     119390 non-null  int64  \n",
            " 29  total_of_special_requests       119390 non-null  int64  \n",
            " 30  reservation_status              119390 non-null  object \n",
            " 31  reservation_status_date         119390 non-null  object \n",
            "dtypes: float64(4), int64(16), object(12)\n",
            "memory usage: 29.1+ MB\n"
          ]
        }
      ]
    },
    {
      "cell_type": "code",
      "source": [
        "# finding the total nan values\n",
        "\n",
        "print(df.isnull().sum())\n"
      ],
      "metadata": {
        "colab": {
          "base_uri": "https://localhost:8080/"
        },
        "id": "22fxASwGwKIh",
        "outputId": "6f59a2b7-970a-4947-c682-d8dd73e4f7b9"
      },
      "execution_count": 6,
      "outputs": [
        {
          "output_type": "stream",
          "name": "stdout",
          "text": [
            "hotel                                  0\n",
            "is_canceled                            0\n",
            "lead_time                              0\n",
            "arrival_date_year                      0\n",
            "arrival_date_month                     0\n",
            "arrival_date_week_number               0\n",
            "arrival_date_day_of_month              0\n",
            "stays_in_weekend_nights                0\n",
            "stays_in_week_nights                   0\n",
            "adults                                 0\n",
            "children                               4\n",
            "babies                                 0\n",
            "meal                                   0\n",
            "country                              488\n",
            "market_segment                         0\n",
            "distribution_channel                   0\n",
            "is_repeated_guest                      0\n",
            "previous_cancellations                 0\n",
            "previous_bookings_not_canceled         0\n",
            "reserved_room_type                     0\n",
            "assigned_room_type                     0\n",
            "booking_changes                        0\n",
            "deposit_type                           0\n",
            "agent                              16340\n",
            "company                           112593\n",
            "days_in_waiting_list                   0\n",
            "customer_type                          0\n",
            "adr                                    0\n",
            "required_car_parking_spaces            0\n",
            "total_of_special_requests              0\n",
            "reservation_status                     0\n",
            "reservation_status_date                0\n",
            "dtype: int64\n"
          ]
        }
      ]
    },
    {
      "cell_type": "code",
      "source": [
        "#agent and company has highest number of nan values so drop those columns\n",
        "df.drop([\"agent\",\"company\"], axis =1 , inplace = True)"
      ],
      "metadata": {
        "id": "4TKq9djkw4LB"
      },
      "execution_count": 7,
      "outputs": []
    },
    {
      "cell_type": "code",
      "source": [
        "#children as less nan values so we will fill it by 0\n",
        "df[\"children\"] = df[\"children\"].fillna(0)"
      ],
      "metadata": {
        "id": "qLvutANnxcij"
      },
      "execution_count": 8,
      "outputs": []
    },
    {
      "cell_type": "markdown",
      "source": [
        "# 1. Length of stay Box plot"
      ],
      "metadata": {
        "id": "YS0HYhwcIq4a"
      }
    },
    {
      "cell_type": "code",
      "source": [
        "#Let's remove the outliers for length of stay\n",
        "df = df.loc[df['stays_in_weekend_nights'] < df['stays_in_weekend_nights'].quantile(0.99)]\n",
        "df = df.loc[df['stays_in_week_nights'] < df['stays_in_week_nights'].quantile(0.99)]"
      ],
      "metadata": {
        "id": "NxYGJ4iX584d"
      },
      "execution_count": 9,
      "outputs": []
    },
    {
      "cell_type": "code",
      "source": [
        "#getting length of stay\n",
        "df['length_of_stay']=df['stays_in_weekend_nights']+df['stays_in_week_nights']\n",
        "df['length_of_stay'].tail()"
      ],
      "metadata": {
        "colab": {
          "base_uri": "https://localhost:8080/"
        },
        "id": "BxkSFnsT5xWE",
        "outputId": "75970828-cca9-47fb-f9c8-dea790278b1e"
      },
      "execution_count": 10,
      "outputs": [
        {
          "output_type": "execute_result",
          "data": {
            "text/plain": [
              "119384    7\n",
              "119385    7\n",
              "119386    7\n",
              "119387    7\n",
              "119388    7\n",
              "Name: length_of_stay, dtype: int64"
            ]
          },
          "metadata": {},
          "execution_count": 10
        }
      ]
    },
    {
      "cell_type": "code",
      "source": [
        "#Box plot for length of stay accoridng to Hotel type\n",
        "plt.figure(figsize=(10,5))\n",
        "ax = sns.boxplot(x=\"length_of_stay\", y=\"hotel\", data=df, orient=\"h\")\n",
        "ax.set_title('Length of stay for type of hotels',fontsize = 20)\n",
        "ax.set_xlabel(\"Length of stay\", fontsize = 15)\n",
        "ax.set_ylabel(\"Type of Hotel\", fontsize = 15)\n"
      ],
      "metadata": {
        "colab": {
          "base_uri": "https://localhost:8080/",
          "height": 378
        },
        "id": "UZmImdyz61Bg",
        "outputId": "a55c44d7-281d-49e8-8c5d-ac3a0739d8b9"
      },
      "execution_count": 11,
      "outputs": [
        {
          "output_type": "execute_result",
          "data": {
            "text/plain": [
              "Text(0, 0.5, 'Type of Hotel')"
            ]
          },
          "metadata": {},
          "execution_count": 11
        },
        {
          "output_type": "display_data",
          "data": {
            "text/plain": [
              "<Figure size 720x360 with 1 Axes>"
            ],
            "image/png": "[encoded data removed]"
          },
          "metadata": {
            "needs_background": "light"
          }
        }
      ]
    },
    {
      "cell_type": "markdown",
      "source": [
        "\n",
        "\n",
        "*   If we ignore the outliers, the maximum length of stay is more in resort type as resort is mostly used for vacation purpose.\n",
        "*   Median of both the hotels are approximately equal.\n",
        "\n",
        "\n",
        "\n"
      ],
      "metadata": {
        "id": "8jy7BNT_g1ql"
      }
    },
    {
      "cell_type": "markdown",
      "source": [
        "#2. ADR for each hotel type according to year (Line Plot)"
      ],
      "metadata": {
        "id": "eho_yzLNL8q9"
      }
    },
    {
      "cell_type": "code",
      "source": [
        "#group the adr mean according to year\n",
        "adr_year = df.groupby(['arrival_date_year','hotel'])['adr'].mean().unstack()\n",
        "adr_year"
      ],
      "metadata": {
        "colab": {
          "base_uri": "https://localhost:8080/",
          "height": 175
        },
        "id": "u2tmcVkJ9HrS",
        "outputId": "5770fbbd-fcbe-449e-fce0-d8fd4081977b"
      },
      "execution_count": 12,
      "outputs": [
        {
          "output_type": "execute_result",
          "data": {
            "text/plain": [
              "hotel              City Hotel  Resort Hotel\n",
              "arrival_date_year                          \n",
              "2015                85.875011     89.054520\n",
              "2016               103.484599     87.390964\n",
              "2017               117.431089    108.211771"
            ],
            "text/html": [
              "\n",
              "  <div id=\"df-df2f7c4c-0133-4727-9324-2ec90b0ee638\">\n",
              "    <div class=\"colab-df-container\">\n",
              "      <div>\n",
              "<style scoped>\n",
              "    .dataframe tbody tr th:only-of-type {\n",
              "        vertical-align: middle;\n",
              "    }\n",
              "\n",
              "    .dataframe tbody tr th {\n",
              "        vertical-align: top;\n",
              "    }\n",
              "\n",
              "    .dataframe thead th {\n",
              "        text-align: right;\n",
              "    }\n",
              "</style>\n",
              "<table border=\"1\" class=\"dataframe\">\n",
              "  <thead>\n",
              "    <tr style=\"text-align: right;\">\n",
              "      <th>hotel</th>\n",
              "      <th>City Hotel</th>\n",
              "      <th>Resort Hotel</th>\n",
              "    </tr>\n",
              "    <tr>\n",
              "      <th>arrival_date_year</th>\n",
              "      <th></th>\n",
              "      <th></th>\n",
              "    </tr>\n",
              "  </thead>\n",
              "  <tbody>\n",
              "    <tr>\n",
              "      <th>2015</th>\n",
              "      <td>85.875011</td>\n",
              "      <td>89.054520</td>\n",
              "    </tr>\n",
              "    <tr>\n",
              "      <th>2016</th>\n",
              "      <td>103.484599</td>\n",
              "      <td>87.390964</td>\n",
              "    </tr>\n",
              "    <tr>\n",
              "      <th>2017</th>\n",
              "      <td>117.431089</td>\n",
              "      <td>108.211771</td>\n",
              "    </tr>\n",
              "  </tbody>\n",
              "</table>\n",
              "</div>\n",
              "      <button class=\"colab-df-convert\" onclick=\"convertToInteractive('df-df2f7c4c-0133-4727-9324-2ec90b0ee638')\"\n",
              "              title=\"Convert this dataframe to an interactive table.\"\n",
              "              style=\"display:none;\">\n",
              "        \n",
              "  <svg xmlns=\"http://www.w3.org/2000/svg\" height=\"24px\"viewBox=\"0 0 24 24\"\n",
              "       width=\"24px\">\n",
              "    <path d=\"M0 0h24v24H0V0z\" fill=\"none\"/>\n",
              "    <path d=\"M18.56 5.44l.94 2.06.94-2.06 2.06-.94-2.06-.94-.94-2.06-.94 2.06-2.06.94zm-11 1L8.5 8.5l.94-2.06 2.06-.94-2.06-.94L8.5 2.5l-.94 2.06-2.06.94zm10 10l.94 2.06.94-2.06 2.06-.94-2.06-.94-.94-2.06-.94 2.06-2.06.94z\"/><path d=\"M17.41 7.96l-1.37-1.37c-.4-.4-.92-.59-1.43-.59-.52 0-1.04.2-1.43.59L10.3 9.45l-7.72 7.72c-.78.78-.78 2.05 0 2.83L4 21.41c.39.39.9.59 1.41.59.51 0 1.02-.2 1.41-.59l7.78-7.78 2.81-2.81c.8-.78.8-2.07 0-2.86zM5.41 20L4 18.59l7.72-7.72 1.47 1.35L5.41 20z\"/>\n",
              "  </svg>\n",
              "      </button>\n",
              "      \n",
              "  <style>\n",
              "    .colab-df-container {\n",
              "      display:flex;\n",
              "      flex-wrap:wrap;\n",
              "      gap: 12px;\n",
              "    }\n",
              "\n",
              "    .colab-df-convert {\n",
              "      background-color: #E8F0FE;\n",
              "      border: none;\n",
              "      border-radius: 50%;\n",
              "      cursor: pointer;\n",
              "      display: none;\n",
              "      fill: #1967D2;\n",
              "      height: 32px;\n",
              "      padding: 0 0 0 0;\n",
              "      width: 32px;\n",
              "    }\n",
              "\n",
              "    .colab-df-convert:hover {\n",
              "      background-color: #E2EBFA;\n",
              "      box-shadow: 0px 1px 2px rgba(60, 64, 67, 0.3), 0px 1px 3px 1px rgba(60, 64, 67, 0.15);\n",
              "      fill: #174EA6;\n",
              "    }\n",
              "\n",
              "    [theme=dark] .colab-df-convert {\n",
              "      background-color: #3B4455;\n",
              "      fill: #D2E3FC;\n",
              "    }\n",
              "\n",
              "    [theme=dark] .colab-df-convert:hover {\n",
              "      background-color: #434B5C;\n",
              "      box-shadow: 0px 1px 3px 1px rgba(0, 0, 0, 0.15);\n",
              "      filter: drop-shadow(0px 1px 2px rgba(0, 0, 0, 0.3));\n",
              "      fill: #FFFFFF;\n",
              "    }\n",
              "  </style>\n",
              "\n",
              "      <script>\n",
              "        const buttonEl =\n",
              "          document.querySelector('#df-df2f7c4c-0133-4727-9324-2ec90b0ee638 button.colab-df-convert');\n",
              "        buttonEl.style.display =\n",
              "          google.colab.kernel.accessAllowed ? 'block' : 'none';\n",
              "\n",
              "        async function convertToInteractive(key) {\n",
              "          const element = document.querySelector('#df-df2f7c4c-0133-4727-9324-2ec90b0ee638');\n",
              "          const dataTable =\n",
              "            await google.colab.kernel.invokeFunction('convertToInteractive',\n",
              "                                                     [key], {});\n",
              "          if (!dataTable) return;\n",
              "\n",
              "          const docLinkHtml = 'Like what you see? Visit the ' +\n",
              "            '<a target=\"_blank\" href=https://colab.research.google.com/notebooks/data_table.ipynb>data table notebook</a>'\n",
              "            + ' to learn more about interactive tables.';\n",
              "          element.innerHTML = '';\n",
              "          dataTable['output_type'] = 'display_data';\n",
              "          await google.colab.output.renderOutput(dataTable, element);\n",
              "          const docLink = document.createElement('div');\n",
              "          docLink.innerHTML = docLinkHtml;\n",
              "          element.appendChild(docLink);\n",
              "        }\n",
              "      </script>\n",
              "    </div>\n",
              "  </div>\n",
              "  "
            ]
          },
          "metadata": {},
          "execution_count": 12
        }
      ]
    },
    {
      "cell_type": "code",
      "source": [
        "#line plot of adr year wise\n",
        "adr_year.plot()\n",
        "\n",
        "plt.title('ADR time series for resort and city hotel')\n",
        "plt.ylabel('Mean ADR')\n",
        "plt.xlabel('Year')\n",
        "plt.rcParams['figure.figsize'] = (11, 5)"
      ],
      "metadata": {
        "colab": {
          "base_uri": "https://localhost:8080/",
          "height": 295
        },
        "id": "bnCNaq8TEkMp",
        "outputId": "8d498921-6fe9-43ec-bb1d-a4476d6d87e5"
      },
      "execution_count": 13,
      "outputs": [
        {
          "output_type": "display_data",
          "data": {
            "text/plain": [
              "<Figure size 432x288 with 1 Axes>"
            ],
            "image/png": "[encoded data removed]"
          },
          "metadata": {
            "needs_background": "light"
          }
        }
      ]
    },
    {
      "cell_type": "markdown",
      "source": [
        "\n",
        "\n",
        "*   The mean ADR for city hotel increased with almost constant rate from 2015 to 2016.\n",
        "*   The mean ADR for resort decreased from 2015 to 2016 but then increased from 2016 to 2017\n",
        "\n"
      ],
      "metadata": {
        "id": "bYE_s8FwjKNP"
      }
    },
    {
      "cell_type": "markdown",
      "source": [
        "#3. Total previous cancellation and not cancellation"
      ],
      "metadata": {
        "id": "46iGRPusMH7c"
      }
    },
    {
      "cell_type": "code",
      "source": [
        "#previous cancellation for each hotel type\n",
        "number_of_cancel=df.groupby(['hotel'])['previous_cancellations'].sum()\n",
        "number_of_cancel"
      ],
      "metadata": {
        "colab": {
          "base_uri": "https://localhost:8080/"
        },
        "id": "AH3ugqNpXjgA",
        "outputId": "31e8cb8e-6cfe-40db-a313-545b5d5c4138"
      },
      "execution_count": 14,
      "outputs": [
        {
          "output_type": "execute_result",
          "data": {
            "text/plain": [
              "hotel\n",
              "City Hotel      6301\n",
              "Resort Hotel    4016\n",
              "Name: previous_cancellations, dtype: int64"
            ]
          },
          "metadata": {},
          "execution_count": 14
        }
      ]
    },
    {
      "cell_type": "code",
      "source": [
        "#previously not canceled for each hotel type\n",
        "number_of_notcancel=df.groupby(['hotel'])['previous_bookings_not_canceled'].sum()\n",
        "number_of_notcancel"
      ],
      "metadata": {
        "colab": {
          "base_uri": "https://localhost:8080/"
        },
        "id": "d0ivirChYeG9",
        "outputId": "13d6a12f-8570-48eb-c135-a1a82444b128"
      },
      "execution_count": 15,
      "outputs": [
        {
          "output_type": "execute_result",
          "data": {
            "text/plain": [
              "hotel\n",
              "City Hotel      10444\n",
              "Resort Hotel     5715\n",
              "Name: previous_bookings_not_canceled, dtype: int64"
            ]
          },
          "metadata": {},
          "execution_count": 15
        }
      ]
    },
    {
      "cell_type": "code",
      "source": [
        "# Create the figure object for canceled\n",
        "cancel_number= number_of_cancel.plot.bar(figsize = (10,6),fontsize = 14)\n",
        "\n",
        "# Set the title\n",
        "cancel_number.set_title(\"Total previous cancellation\", fontsize = 20)\n",
        "\n",
        "# Set x and y-labels\n",
        "cancel_number.set_xlabel(\"Hotel type\", fontsize = 15)\n",
        "cancel_number.set_ylabel(\"Total previous cancellations\", fontsize = 15)"
      ],
      "metadata": {
        "colab": {
          "base_uri": "https://localhost:8080/",
          "height": 509
        },
        "id": "KoZf4vwsZkxD",
        "outputId": "b6fe7675-e431-44b0-f2a0-71446b71221b"
      },
      "execution_count": 16,
      "outputs": [
        {
          "output_type": "execute_result",
          "data": {
            "text/plain": [
              "Text(0, 0.5, 'Total previous cancellations')"
            ]
          },
          "metadata": {},
          "execution_count": 16
        },
        {
          "output_type": "display_data",
          "data": {
            "text/plain": [
              "<Figure size 720x432 with 1 Axes>"
            ],
            "image/png": "[encoded data removed]"
          },
          "metadata": {
            "needs_background": "light"
          }
        }
      ]
    },
    {
      "cell_type": "markdown",
      "source": [
        "\n",
        "\n",
        "*   Total number of previously cancelled booking is more in city hotel than a resort hotel.\n",
        "\n"
      ],
      "metadata": {
        "id": "hQqJ62ixkrGj"
      }
    },
    {
      "cell_type": "code",
      "source": [
        "# Create the figure object for not cancelled\n",
        "notcancel_number= number_of_notcancel.plot.bar(figsize = (10,6),fontsize = 14)\n",
        "\n",
        "# Set the title\n",
        "notcancel_number.set_title(\"Total of not cancelled previously\", fontsize = 20)\n",
        "\n",
        "# Set x and y-labels\n",
        "notcancel_number.set_xlabel(\"Hotel type\", fontsize = 15)\n",
        "notcancel_number.set_ylabel(\"Sum of not cancelled previously\", fontsize = 15)"
      ],
      "metadata": {
        "colab": {
          "base_uri": "https://localhost:8080/",
          "height": 509
        },
        "id": "0DlJRAqEaCXG",
        "outputId": "3382d1fe-50c9-414b-fcc2-99e84bf2ade2"
      },
      "execution_count": 17,
      "outputs": [
        {
          "output_type": "execute_result",
          "data": {
            "text/plain": [
              "Text(0, 0.5, 'Sum of not cancelled previously')"
            ]
          },
          "metadata": {},
          "execution_count": 17
        },
        {
          "output_type": "display_data",
          "data": {
            "text/plain": [
              "<Figure size 720x432 with 1 Axes>"
            ],
            "image/png": "[encoded data removed]"
          },
          "metadata": {
            "needs_background": "light"
          }
        }
      ]
    },
    {
      "cell_type": "markdown",
      "source": [
        "* Total number of previously not cancelled booking is more in city hotel than a resort hotel.\n",
        "* The city hotel is used more frequently compared to resort hotel thus the canceled and not canceled booking will be more in city hotel."
      ],
      "metadata": {
        "id": "R9S_FrAUlnp2"
      }
    },
    {
      "cell_type": "markdown",
      "source": [
        "#4. Total special request in each type of market segment"
      ],
      "metadata": {
        "id": "rWF3sdDLbSYX"
      }
    },
    {
      "cell_type": "code",
      "source": [
        "#total special request for market segments\n",
        "total_special_request=df.groupby(['market_segment'])['total_of_special_requests'].sum()\n",
        "total_special_request\n"
      ],
      "metadata": {
        "colab": {
          "base_uri": "https://localhost:8080/"
        },
        "id": "-F0tUSbHaptr",
        "outputId": "20e439d1-7a39-4a9f-b148-764f38c05c2d"
      },
      "execution_count": 18,
      "outputs": [
        {
          "output_type": "execute_result",
          "data": {
            "text/plain": [
              "market_segment\n",
              "Aviation            23\n",
              "Complementary      687\n",
              "Corporate         1208\n",
              "Direct            6882\n",
              "Groups            1701\n",
              "Offline TA/TO     5766\n",
              "Online TA        49372\n",
              "Undefined            3\n",
              "Name: total_of_special_requests, dtype: int64"
            ]
          },
          "metadata": {},
          "execution_count": 18
        }
      ]
    },
    {
      "cell_type": "code",
      "source": [
        "# Create the figure object for totao_special_request\n",
        "histogram_special_request=total_special_request.plot.bar(figsize = (10,6),fontsize = 14)\n",
        "\n",
        "# Set the title\n",
        "histogram_special_request.set_title(\"Total Special requests in each market segment type\", fontsize = 20)\n",
        "\n",
        "# Set x and y-labels\n",
        "histogram_special_request.set_xlabel(\"Market segment type\", fontsize = 15)\n",
        "histogram_special_request.set_ylabel(\"Total special requests\", fontsize = 15)"
      ],
      "metadata": {
        "colab": {
          "base_uri": "https://localhost:8080/",
          "height": 535
        },
        "id": "6DUIMdIVcs9L",
        "outputId": "643e20bc-2235-4a7e-a091-ddc522a42a14"
      },
      "execution_count": 19,
      "outputs": [
        {
          "output_type": "execute_result",
          "data": {
            "text/plain": [
              "Text(0, 0.5, 'Total special requests')"
            ]
          },
          "metadata": {},
          "execution_count": 19
        },
        {
          "output_type": "display_data",
          "data": {
            "text/plain": [
              "<Figure size 720x432 with 1 Axes>"
            ],
            "image/png": "[encoded data removed]"
          },
          "metadata": {
            "needs_background": "light"
          }
        }
      ]
    },
    {
      "cell_type": "markdown",
      "source": [
        "\n",
        "\n",
        "*   It can be observed that the total special requests are made by Online TA market segment.\n",
        "\n"
      ],
      "metadata": {
        "id": "6pIKFOi-l9aJ"
      }
    },
    {
      "cell_type": "markdown",
      "source": [
        "#5.Sum of parking space according to type of booking\n"
      ],
      "metadata": {
        "id": "P2nVqxBAdRRn"
      }
    },
    {
      "cell_type": "code",
      "source": [
        "#total parking space required table for each customer type\n",
        "total_parking=df.groupby(['customer_type'])['required_car_parking_spaces'].sum()\n",
        "total_parking"
      ],
      "metadata": {
        "colab": {
          "base_uri": "https://localhost:8080/"
        },
        "id": "d4LhiIH3dIys",
        "outputId": "d6ec076a-d870-46b3-af7c-2c812f520b99"
      },
      "execution_count": 20,
      "outputs": [
        {
          "output_type": "execute_result",
          "data": {
            "text/plain": [
              "customer_type\n",
              "Contract            128\n",
              "Group                49\n",
              "Transient          6267\n",
              "Transient-Party     819\n",
              "Name: required_car_parking_spaces, dtype: int64"
            ]
          },
          "metadata": {},
          "execution_count": 20
        }
      ]
    },
    {
      "cell_type": "code",
      "source": [
        "# Create the figure object for total_parking\n",
        "bar_parking=total_parking.plot.bar(figsize = (10,6),fontsize = 14)\n",
        "\n",
        "# Set the title\n",
        "bar_parking.set_title(\"Total parking space required for customer type\", fontsize = 20)\n",
        "\n",
        "# Set x and y-labels\n",
        "bar_parking.set_xlabel(\"Customer type\", fontsize = 15)\n",
        "bar_parking.set_ylabel(\"Total of Parking space required\", fontsize = 15)"
      ],
      "metadata": {
        "colab": {
          "base_uri": "https://localhost:8080/",
          "height": 527
        },
        "id": "SXHA0hqdc9Yc",
        "outputId": "02b3cf0c-08f3-455b-9911-2191b9ce18d2"
      },
      "execution_count": 21,
      "outputs": [
        {
          "output_type": "execute_result",
          "data": {
            "text/plain": [
              "Text(0, 0.5, 'Total of Parking space required')"
            ]
          },
          "metadata": {},
          "execution_count": 21
        },
        {
          "output_type": "display_data",
          "data": {
            "text/plain": [
              "<Figure size 720x432 with 1 Axes>"
            ],
            "image/png": "[encoded data removed]"
          },
          "metadata": {
            "needs_background": "light"
          }
        }
      ]
    },
    {
      "cell_type": "markdown",
      "source": [
        "\n",
        "\n",
        "*   When customer type is Transient that means the stay is more few days so it is possible that customer bringing his/her own vehicle that's why the parking space required it high for Transient\n",
        "*   In contract and group booking customer will probably take a hired vehicle form hotel or from somewhere else that's why they do not need parking space.\n",
        "\n"
      ],
      "metadata": {
        "id": "8G67PC5Zmb46"
      }
    },
    {
      "cell_type": "markdown",
      "source": [
        "#6. Total cancellations for each hotel type"
      ],
      "metadata": {
        "id": "-eygUGF8fgGI"
      }
    },
    {
      "cell_type": "code",
      "source": [
        "#making a table for total_cancellation according to hotel type\n",
        "total_cancellation=df.groupby(['hotel'])['is_canceled'].sum()\n",
        "print(f\"total_cancellation=\\n{total_cancellation}\")\n",
        "\n",
        "#total bookings according to hotel type\n",
        "total_bookings=df['hotel'].value_counts()\n",
        "print(f\"total_bookings=\\n{total_bookings}\")\n",
        "\n",
        "#percentage of total_cancellation for both the bookings \n",
        "percentage_of_cancellation=np.round(total_cancellation*100/total_bookings,2)\n",
        "print(\"--------------------------\")\n",
        "print(percentage_of_cancellation)"
      ],
      "metadata": {
        "colab": {
          "base_uri": "https://localhost:8080/"
        },
        "id": "t4id1JgUfBfk",
        "outputId": "e376db86-c8fe-4d18-b7a6-351356654e5c"
      },
      "execution_count": 22,
      "outputs": [
        {
          "output_type": "stream",
          "name": "stdout",
          "text": [
            "total_cancellation=\n",
            "hotel\n",
            "City Hotel      32629\n",
            "Resort Hotel    10284\n",
            "Name: is_canceled, dtype: int64\n",
            "total_bookings=\n",
            "City Hotel      78537\n",
            "Resort Hotel    37058\n",
            "Name: hotel, dtype: int64\n",
            "--------------------------\n",
            "hotel\n",
            "City Hotel      41.55\n",
            "Resort Hotel    27.75\n",
            "dtype: float64\n"
          ]
        }
      ]
    },
    {
      "cell_type": "code",
      "source": [
        "# Pie chart for total cancellation\n",
        "bar_cancellation=total_cancellation.plot.pie(figsize = (10,6),fontsize = 14)\n",
        "\n",
        "# Set the title\n",
        "bar_cancellation.set_title(\"Total cancellations for each hotel type\", fontsize = 20)\n"
      ],
      "metadata": {
        "colab": {
          "base_uri": "https://localhost:8080/",
          "height": 396
        },
        "id": "pOjkwx-8gGVy",
        "outputId": "9fc6222d-5e52-46c1-a2d7-ec6053861769"
      },
      "execution_count": 23,
      "outputs": [
        {
          "output_type": "execute_result",
          "data": {
            "text/plain": [
              "Text(0.5, 1.0, 'Total cancellations for each hotel type')"
            ]
          },
          "metadata": {},
          "execution_count": 23
        },
        {
          "output_type": "display_data",
          "data": {
            "text/plain": [
              "<Figure size 720x432 with 1 Axes>"
            ],
            "image/png": "[encoded data removed]"
          },
          "metadata": {}
        }
      ]
    },
    {
      "cell_type": "markdown",
      "source": [
        "*   The total booking for city hotel is more compared to resort and so the total cancellation is also large for city hotels.\n",
        "\n"
      ],
      "metadata": {
        "id": "ihfMk2r2m-QH"
      }
    },
    {
      "cell_type": "code",
      "source": [
        ""
      ],
      "metadata": {
        "id": "zzZkrdU619Mk"
      },
      "execution_count": null,
      "outputs": []
    }
  ]
}